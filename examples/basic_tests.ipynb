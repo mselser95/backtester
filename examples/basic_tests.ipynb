{
 "cells": [
  {
   "cell_type": "code",
   "execution_count": 128,
   "metadata": {},
   "outputs": [],
   "source": [
    "import backtester as bt\n",
    "import numpy as np\n",
    "import datetime\n",
    "import yfinance as yf\n",
    "import matplotlib.pyplot as plt"
   ]
  },
  {
   "cell_type": "code",
   "execution_count": 129,
   "outputs": [],
   "source": [
    "ticker = []\n",
    "ticker.append(\"AAPL\")\n",
    "ticker.append(\"TSLA\")\n",
    "ticker.append(\"MSFT\")\n",
    "ticker.append(\"GOOG\")"
   ],
   "metadata": {
    "collapsed": false
   }
  },
  {
   "cell_type": "code",
   "execution_count": 130,
   "outputs": [
    {
     "name": "stdout",
     "output_type": "stream",
     "text": [
      "[*********************100%***********************]  4 of 4 completed\n"
     ]
    }
   ],
   "source": [
    "start = datetime.datetime(2021, 9, 16)\n",
    "end = datetime.datetime(2022, 9, 18)\n",
    "data = yf.download(tickers = ticker, start=start, end=end, interval = \"1d\")\n",
    "data = data['Adj Close']\n",
    "size = len(ticker)"
   ],
   "metadata": {
    "collapsed": false
   }
  },
  {
   "cell_type": "code",
   "execution_count": 131,
   "outputs": [
    {
     "name": "stdout",
     "output_type": "stream",
     "text": [
      "                  AAPL        GOOG        MSFT        TSLA\n",
      "Date                                                      \n",
      "2021-09-16  147.960876  144.373505  302.684967  252.330002\n",
      "2021-09-17  145.246094  141.463501  297.379425  253.163330\n",
      "2021-09-20  142.143478  139.016998  291.855682  243.389999\n",
      "2021-09-21  142.630753  139.646500  292.351562  246.460007\n",
      "2021-09-22  145.037262  140.938507  296.100128  250.646667\n",
      "...                ...         ...         ...         ...\n",
      "2022-09-12  163.429993  111.870003  266.649994  304.420013\n",
      "2022-09-13  153.839996  105.309998  251.990005  292.130005\n",
      "2022-09-14  155.309998  105.870003  252.220001  302.609985\n",
      "2022-09-15  152.369995  103.900002  245.380005  303.750000\n",
      "2022-09-16  150.699997  103.629997  244.740005  303.350006\n",
      "\n",
      "[253 rows x 4 columns]\n"
     ]
    }
   ],
   "source": [
    "print(data)"
   ],
   "metadata": {
    "collapsed": false
   }
  },
  {
   "cell_type": "code",
   "execution_count": 133,
   "outputs": [],
   "source": [
    "def min_variance(data):\n",
    "\n",
    "    #Convert data into daily returns, average daily returns and annual returns\n",
    "    size = data.shape[1]\n",
    "    data_returns = data.pct_change()\n",
    "    data_returns = data_returns[1:]\n",
    "    daily_average = np.mean(data_returns,axis = 0)\n",
    "    annual_average = ((daily_average+1)**365)-1\n",
    "    #Construct Covariance matrix\n",
    "    cov_data = np.cov(data_returns.T)\n",
    "    #Construct other vectors\n",
    "    bottom = np.ones(size)\n",
    "    bottom2 = np.ones(size+1)\n",
    "    bottom2[-1] = 0\n",
    "    beta = np.zeros(size+1)\n",
    "    beta[-1] = 1\n",
    "    #Concatenate all Vectors with Covariance Matrix\n",
    "    test = np.c_[2*cov_data,bottom.T]\n",
    "    final = np.row_stack((test, bottom2))\n",
    "    answer = np.matmul(np.linalg.inv(final),beta)\n",
    "\n",
    "    #Compute NP Arrays that contain:\n",
    "    #Portfolio Weights\n",
    "    weights = np.around(answer,3)\n",
    "    p_weights = weights[0:-1]\n",
    "    weights1 = np.array(p_weights, dtype=float)\n",
    "    #Portfolio Mean\n",
    "    p_mean = np.dot(weights1,annual_average)\n",
    "    #Portfolio Variance\n",
    "    p_variance = np.matmul(np.matmul(weights1.T,cov_data),weights1)\n",
    "    return p_weights, p_mean, p_variance\n"
   ],
   "metadata": {
    "collapsed": false
   }
  },
  {
   "cell_type": "code",
   "execution_count": 136,
   "outputs": [
    {
     "name": "stdout",
     "output_type": "stream",
     "text": [
      "[ 0.557  0.106  0.473 -0.136]\n",
      "-0.17939301646859962\n",
      "0.0003307489628520761\n"
     ]
    }
   ],
   "source": [
    "p_weights, p_mean, p_variance = min_variance(data)\n",
    "print(p_weights)\n",
    "print(p_mean)\n",
    "print(p_variance)"
   ],
   "metadata": {
    "collapsed": false
   }
  },
  {
   "cell_type": "code",
   "execution_count": 137,
   "outputs": [],
   "source": [
    "def min_variance_mean(data, target_mean):\n",
    "    #Set Target Mean\n",
    "    mean = target_mean\n",
    "    size = data.shape[1]\n",
    "    #Convert data into daily returns, average daily returns and annual returns\n",
    "    data_returns = data.pct_change()\n",
    "    data_returns = np.array(data_returns[1:])\n",
    "    daily_average = np.mean(data_returns,axis = 0)\n",
    "    annual_average = ((daily_average+1)**365)-1\n",
    "    #Construct Covariance matrix\n",
    "    cov_data = np.cov(data_returns.T)\n",
    "    #Construct other vectors\n",
    "    bottom = np.ones(size)\n",
    "    bottom2 = np.ones(size+2)\n",
    "    bottom2[-2] = 0\n",
    "    bottom2[-1] = 0\n",
    "    beta = np.zeros(size+2)\n",
    "    beta[-2] = mean\n",
    "    beta[-1] = 1\n",
    "    #Concatenate all Vectors with Covariance Matrix\n",
    "    test = np.c_[2*cov_data,annual_average.T,bottom.T]\n",
    "    annual_average = np.append(annual_average,np.array([0,0]))\n",
    "    final = np.row_stack((test,annual_average, bottom2))\n",
    "    #Compute weights\n",
    "    answer = np.matmul(np.linalg.inv(final),beta)\n",
    "    #Round weights\n",
    "    weights = np.around(answer,3)\n",
    "    p_weights = weights[0:-2]\n",
    "\n",
    "    #Compute NP Arrays that contain:\n",
    "    #Portfolio Weights\n",
    "    weights1 = np.array(p_weights, dtype=float)\n",
    "    #Portfolio Mean\n",
    "    p_mean = np.dot(weights1,annual_average[0:size])\n",
    "    #Portfolio Variance\n",
    "    p_variance = np.matmul(np.matmul(weights1.T,cov_data),weights1)\n",
    "    return p_mean, p_variance, p_weights"
   ],
   "metadata": {
    "collapsed": false
   }
  },
  {
   "cell_type": "code",
   "execution_count": 144,
   "outputs": [],
   "source": [
    "def efficient_frontier(data,max_mean):\n",
    "    means = np.linspace(0.01,max_mean,100)\n",
    "    mean_value = []\n",
    "    variance_value = []\n",
    "    for i in means:\n",
    "        #Obtain portfolio mean and variance\n",
    "        p_mean, p_variance, p_weights= min_variance_mean(data,i)\n",
    "        #Store each value in list\n",
    "        mean_value.append(p_mean)\n",
    "        variance_value.append(p_variance)\n",
    "    #Plot the Efficient Frontier\n",
    "    plt.scatter(variance_value,mean_value)\n",
    "    plt.xlabel('Portfolio Variance (%)')\n",
    "    plt.ylabel('Portfolio Return (%)')\n",
    "    plt.title(\"Efficient Frontier\")\n",
    "    plt.show()"
   ],
   "metadata": {
    "collapsed": false
   }
  },
  {
   "cell_type": "code",
   "execution_count": 145,
   "outputs": [
    {
     "data": {
      "text/plain": "<Figure size 640x480 with 1 Axes>",
      "image/png": "[encoded data removed]"
     },
     "metadata": {},
     "output_type": "display_data"
    }
   ],
   "source": [
    "p_mean, p_variance, p_weights = min_variance_mean(data,0.20)\n",
    "efficient_frontier(data,0.8)"
   ],
   "metadata": {
    "collapsed": false
   }
  },
  {
   "cell_type": "code",
   "execution_count": 257,
   "outputs": [],
   "source": [
    "import yahoo_fin.stock_info as si\n",
    "import pandas as pd\n"
   ],
   "metadata": {
    "collapsed": false
   }
  },
  {
   "cell_type": "code",
   "execution_count": 311,
   "outputs": [
    {
     "ename": "ValueError",
     "evalue": "DataFrame constructor not properly called!",
     "output_type": "error",
     "traceback": [
      "\u001B[0;31m---------------------------------------------------------------------------\u001B[0m",
      "\u001B[0;31mValueError\u001B[0m                                Traceback (most recent call last)",
      "\u001B[0;32m/var/folders/51/2wvtr41x3n5c53c9s642nnyc0000gn/T/ipykernel_5042/3330212216.py\u001B[0m in \u001B[0;36m<module>\u001B[0;34m\u001B[0m\n\u001B[1;32m      4\u001B[0m \u001B[0;31m#pb = temp[temp.Attribute.str.contains(\"Price/Book\")]\u001B[0m\u001B[0;34m\u001B[0m\u001B[0;34m\u001B[0m\u001B[0;34m\u001B[0m\u001B[0m\n\u001B[1;32m      5\u001B[0m \u001B[0;31m#print(pb)\u001B[0m\u001B[0;34m\u001B[0m\u001B[0;34m\u001B[0m\u001B[0;34m\u001B[0m\u001B[0m\n\u001B[0;32m----> 6\u001B[0;31m \u001B[0ma\u001B[0m \u001B[0;34m=\u001B[0m \u001B[0mpd\u001B[0m\u001B[0;34m.\u001B[0m\u001B[0mDataFrame\u001B[0m\u001B[0;34m(\u001B[0m\u001B[0;36m3\u001B[0m\u001B[0;34m)\u001B[0m\u001B[0;34m\u001B[0m\u001B[0;34m\u001B[0m\u001B[0m\n\u001B[0m\u001B[1;32m      7\u001B[0m \u001B[0;31m#temp = np.array(temp)\u001B[0m\u001B[0;34m\u001B[0m\u001B[0;34m\u001B[0m\u001B[0;34m\u001B[0m\u001B[0m\n",
      "\u001B[0;32m~/Desktop/backtester/env/lib/python3.7/site-packages/pandas/core/frame.py\u001B[0m in \u001B[0;36m__init__\u001B[0;34m(self, data, index, columns, dtype, copy)\u001B[0m\n\u001B[1;32m    728\u001B[0m         \u001B[0;32melse\u001B[0m\u001B[0;34m:\u001B[0m\u001B[0;34m\u001B[0m\u001B[0;34m\u001B[0m\u001B[0m\n\u001B[1;32m    729\u001B[0m             \u001B[0;32mif\u001B[0m \u001B[0mindex\u001B[0m \u001B[0;32mis\u001B[0m \u001B[0;32mNone\u001B[0m \u001B[0;32mor\u001B[0m \u001B[0mcolumns\u001B[0m \u001B[0;32mis\u001B[0m \u001B[0;32mNone\u001B[0m\u001B[0;34m:\u001B[0m\u001B[0;34m\u001B[0m\u001B[0;34m\u001B[0m\u001B[0m\n\u001B[0;32m--> 730\u001B[0;31m                 \u001B[0;32mraise\u001B[0m \u001B[0mValueError\u001B[0m\u001B[0;34m(\u001B[0m\u001B[0;34m\"DataFrame constructor not properly called!\"\u001B[0m\u001B[0;34m)\u001B[0m\u001B[0;34m\u001B[0m\u001B[0;34m\u001B[0m\u001B[0m\n\u001B[0m\u001B[1;32m    731\u001B[0m \u001B[0;34m\u001B[0m\u001B[0m\n\u001B[1;32m    732\u001B[0m             \u001B[0;31m# Argument 1 to \"ensure_index\" has incompatible type \"Collection[Any]\";\u001B[0m\u001B[0;34m\u001B[0m\u001B[0;34m\u001B[0m\u001B[0;34m\u001B[0m\u001B[0m\n",
      "\u001B[0;31mValueError\u001B[0m: DataFrame constructor not properly called!"
     ]
    }
   ],
   "source": [
    "#quote = si.tickers_nasdaq(False)\n",
    "#icers = si.tickers_sp500(False)\n",
    "temp = si.get_stats_valuation(\"aapl\")\n",
    "#pb = temp[temp.Attribute.str.contains(\"Price/Book\")]\n",
    "#print(pb)\n",
    "a = pd.DataFrame(3)\n",
    "\n",
    "\n",
    "#temp = np.array(temp)"
   ],
   "metadata": {
    "collapsed": false
   }
  },
  {
   "cell_type": "code",
   "execution_count": 324,
   "outputs": [
    {
     "data": {
      "text/plain": "                                 Open        High         Low       Close  \\\nDate                                                                        \n2021-09-16 00:00:00-04:00  147.612851  148.139897  146.399648  147.960892   \n\n                             Volume  Dividends  Stock Splits  \nDate                                                          \n2021-09-16 00:00:00-04:00  68034100          0             0  ",
      "text/html": "<div>\n<style scoped>\n    .dataframe tbody tr th:only-of-type {\n        vertical-align: middle;\n    }\n\n    .dataframe tbody tr th {\n        vertical-align: top;\n    }\n\n    .dataframe thead th {\n        text-align: right;\n    }\n</style>\n<table border=\"1\" class=\"dataframe\">\n  <thead>\n    <tr style=\"text-align: right;\">\n      <th></th>\n      <th>Open</th>\n      <th>High</th>\n      <th>Low</th>\n      <th>Close</th>\n      <th>Volume</th>\n      <th>Dividends</th>\n      <th>Stock Splits</th>\n    </tr>\n    <tr>\n      <th>Date</th>\n      <th></th>\n      <th></th>\n      <th></th>\n      <th></th>\n      <th></th>\n      <th></th>\n      <th></th>\n    </tr>\n  </thead>\n  <tbody>\n    <tr>\n      <th>2021-09-16 00:00:00-04:00</th>\n      <td>147.612851</td>\n      <td>148.139897</td>\n      <td>146.399648</td>\n      <td>147.960892</td>\n      <td>68034100</td>\n      <td>0</td>\n      <td>0</td>\n    </tr>\n  </tbody>\n</table>\n</div>"
     },
     "execution_count": 324,
     "metadata": {},
     "output_type": "execute_result"
    }
   ],
   "source": [
    "data = yf.Ticker(\"AAPL\")\n",
    "start = datetime.datetime(2021, 9, 16)\n",
    "end = datetime.datetime(2021, 9, 17)\n",
    "data.history(start=start, end=end)"
   ],
   "metadata": {
    "collapsed": false
   }
  },
  {
   "cell_type": "code",
   "execution_count": 328,
   "outputs": [
    {
     "name": "stdout",
     "output_type": "stream",
     "text": [
      "[*********************100%***********************]  4 of 4 completed\n",
      "                  AAPL        GOOG        MSFT        TSLA\n",
      "Date                                                      \n",
      "2021-09-16  147.960892  144.373505  302.685028  252.330002\n"
     ]
    }
   ],
   "source": [
    "\n",
    "ticker = []\n",
    "ticker.append(\"AAPL\")\n",
    "ticker.append(\"TSLA\")\n",
    "ticker.append(\"MSFT\")\n",
    "ticker.append(\"GOOG\")\n",
    "start = datetime.datetime(2021, 9, 16)\n",
    "end = datetime.datetime(2021, 9, 17)\n",
    "\n",
    "data = yf.download(tickers = ticker, start=start, end=end)\n",
    "data = data['Adj Close']\n",
    "print(data)"
   ],
   "metadata": {
    "collapsed": false
   }
  },
  {
   "cell_type": "code",
   "execution_count": 336,
   "outputs": [],
   "source": [
    "import bs4 as bs\n",
    "import requests\n",
    "import math\n",
    "def Tickers():\n",
    "  resp = requests.get('http://en.wikipedia.org/wiki/List_of_S%26P_500_companies')\n",
    "  soup = bs.BeautifulSoup(resp.text, 'lxml')\n",
    "\n",
    "  table = soup.find('table', {'class': 'wikitable sortable'})\n",
    "  tickers = []\n",
    "\n",
    "  for row in table.findAll('tr')[1:]:\n",
    "      ticker = row.findAll('td')[0].text\n",
    "      tickers.append(ticker)\n",
    "\n",
    "  tickers = [s.replace('\\n', '') for s in tickers]\n",
    "  return tickers"
   ],
   "metadata": {
    "collapsed": false
   }
  },
  {
   "cell_type": "code",
   "execution_count": 2,
   "outputs": [],
   "source": [
    "tickers = [\"AAPL\", \"TSLA\", \"MSFT\" \"GOOG\"]"
   ],
   "metadata": {
    "collapsed": false
   }
  },
  {
   "cell_type": "code",
   "execution_count": 99,
   "outputs": [
    {
     "name": "stdout",
     "output_type": "stream",
     "text": [
      "[*********************100%***********************]  4 of 4 completed\n",
      "[*********************100%***********************]  4 of 4 completed\n",
      "(1, 4)\n"
     ]
    }
   ],
   "source": [
    "tickers = [\"AAPL\", \"TSLA\", \"MSFT\",\"GOOG\"]\n",
    "\n",
    "\n",
    "start = datetime.datetime(2021, 9, 16)\n",
    "end = datetime.datetime(2021, 9, 17)\n",
    "begining = yf.download(tickers, start=start, end=end)['Adj Close']\n",
    "\n",
    "start = datetime.datetime(2022, 9, 15)\n",
    "end = datetime.datetime(2022, 9, 16)\n",
    "\n",
    "ending = yf.download(tickers, start=start, end=end)['Adj Close']\n",
    "\n",
    "print(ending.shape)"
   ],
   "metadata": {
    "collapsed": false
   }
  },
  {
   "cell_type": "code",
   "execution_count": 146,
   "outputs": [
    {
     "name": "stdout",
     "output_type": "stream",
     "text": [
      "[ 0.02979911 -0.28033886 -0.18932229  0.20378075]\n",
      "[ 0.4698951  -1.17087547 -0.68935655  1.39033692]\n",
      "company: TSLA, return: -28.03%\n",
      "company: MSFT, return: -18.93%\n",
      "company: AAPL, return: 2.98%\n",
      "company: GOOG, return: 20.38%\n"
     ]
    }
   ],
   "source": [
    "start = np.array(begining)\n",
    "end = np.array(ending)\n",
    "means = (end - start)/start\n",
    "means = means.reshape(4)\n",
    "print(means)\n",
    "avg_means = np.mean(means)\n",
    "std_means = np.std(means)\n",
    "standardized_means = (means-avg_means)/std_means\n",
    "print(standardized_means)\n",
    "#index = np.flip(np.argsort(means))\n",
    "index = np.argsort(means)\n",
    "for i in index:\n",
    "    print(f\"company: {tickers[i]}, return: {round(means[i]*100,2)}%\")\n",
    "\n",
    "\n",
    "weights = np.zeros(len(ticker))\n",
    "\n",
    "\n"
   ],
   "metadata": {
    "collapsed": false
   }
  },
  {
   "cell_type": "code",
   "execution_count": 123,
   "outputs": [
    {
     "name": "stdout",
     "output_type": "stream",
     "text": [
      "[2 3 1 4]\n",
      "10\n",
      "company: TSLA, weight: 30.0%\n",
      "company: MSFT, weight: 10.0%\n",
      "company: AAPL, weight: 20.0%\n",
      "company: GOOG, weight: 40.0%\n"
     ]
    }
   ],
   "source": [
    "weights = np.zeros(len(tickers))\n",
    "ranking = index+1\n",
    "total = sum(ranking)\n",
    "print(ranking)\n",
    "print(total)\n",
    "\n",
    "for i in index:\n",
    "    print(f\"company: {tickers[i]}, weight: {(ranking[i]/total)*100}%\")\n",
    "\n",
    "\n",
    "\n"
   ],
   "metadata": {
    "collapsed": false
   }
  },
  {
   "cell_type": "markdown",
   "source": [],
   "metadata": {
    "collapsed": false
   }
  }
 ],
 "metadata": {
  "kernelspec": {
   "display_name": "Python 3 (ipykernel)",
   "language": "python",
   "name": "python3"
  },
  "language_info": {
   "codemirror_mode": {
    "name": "ipython",
    "version": 3
   },
   "file_extension": ".py",
   "mimetype": "text/x-python",
   "name": "python",
   "nbconvert_exporter": "python",
   "pygments_lexer": "ipython3",
   "version": "3.10.6"
  }
 },
 "nbformat": 4,
 "nbformat_minor": 1
}
