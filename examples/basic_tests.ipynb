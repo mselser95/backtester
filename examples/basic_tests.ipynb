{
 "cells": [
  {
   "cell_type": "code",
   "execution_count": 140,
   "metadata": {},
   "outputs": [],
   "source": [
    "import backtester as bt\n",
    "import numpy as np\n",
    "import datetime\n",
    "import yfinance as yf\n",
    "import matplotlib.pyplot as plt"
   ]
  },
  {
   "cell_type": "code",
   "execution_count": 200,
   "outputs": [],
   "source": [
    "ticker = []\n",
    "ticker.append(\"AAPL\")\n",
    "ticker.append(\"TSLA\")\n",
    "ticker.append(\"MSFT\")\n",
    "ticker.append(\"GOOG\")"
   ],
   "metadata": {
    "collapsed": false
   }
  },
  {
   "cell_type": "code",
   "execution_count": 203,
   "outputs": [
    {
     "name": "stdout",
     "output_type": "stream",
     "text": [
      "[*********************100%***********************]  4 of 4 completed\n"
     ]
    }
   ],
   "source": [
    "start = datetime.datetime(2021, 9, 16)\n",
    "end = datetime.datetime(2022, 9, 18)\n",
    "data = yf.download(tickers = ticker, start=start, end=end, interval = \"1d\")\n",
    "data = data['Adj Close']\n",
    "size = len(ticker)"
   ],
   "metadata": {
    "collapsed": false
   }
  },
  {
   "cell_type": "code",
   "execution_count": 247,
   "outputs": [],
   "source": [
    "def min_variance(data):\n",
    "\n",
    "    #Convert data into daily returns, average daily returns and annual returns\n",
    "    size = data.shape[1]\n",
    "    data_returns = data.pct_change()\n",
    "    data_returns = data_returns[1:]\n",
    "    daily_average = np.mean(data_returns,axis = 0)\n",
    "    annual_average = ((daily_average+1)**365)-1\n",
    "    #Construct Covariance matrix\n",
    "    cov_data = np.cov(data_returns.T)\n",
    "    #Construct other vectors\n",
    "    bottom = np.ones(size)\n",
    "    bottom2 = np.ones(size+1)\n",
    "    bottom2[-1] = 0\n",
    "    beta = np.zeros(size+1)\n",
    "    beta[-1] = 1\n",
    "    #Concatenate all Vectors with Covariance Matrix\n",
    "    test = np.c_[2*cov_data,bottom.T]\n",
    "    final = np.row_stack((test, bottom2))\n",
    "    answer = np.matmul(np.linalg.inv(final),beta)\n",
    "\n",
    "    #Compute NP Arrays that contain:\n",
    "    #Portfolio Weights\n",
    "    weights = np.around(answer,3)\n",
    "    p_weights = weights[0:-1]\n",
    "    weights1 = np.array(p_weights, dtype=float)\n",
    "    #Portfolio Mean\n",
    "    p_mean = np.dot(weights1,annual_average)\n",
    "    #Portfolio Variance\n",
    "    p_variance = np.matmul(np.matmul(weights1.T,cov_data),weights1)\n",
    "    return p_weights, p_mean, p_variance\n"
   ],
   "metadata": {
    "collapsed": false
   }
  },
  {
   "cell_type": "code",
   "execution_count": 248,
   "outputs": [],
   "source": [
    "def min_variance_mean(data, target_mean):\n",
    "    #Set Target Mean\n",
    "    mean = target_mean\n",
    "    size = data.shape[1]\n",
    "    #Convert data into daily returns, average daily returns and annual returns\n",
    "    data_returns = data.pct_change()\n",
    "    data_returns = np.array(data_returns[1:])\n",
    "    daily_average = np.mean(data_returns,axis = 0)\n",
    "    annual_average = ((daily_average+1)**365)-1\n",
    "    #Construct Covariance matrix\n",
    "    cov_data = np.cov(data_returns.T)\n",
    "    #Construct other vectors\n",
    "    bottom = np.ones(size)\n",
    "    bottom2 = np.ones(size+2)\n",
    "    bottom2[-2] = 0\n",
    "    bottom2[-1] = 0\n",
    "    beta = np.zeros(size+2)\n",
    "    beta[-2] = mean\n",
    "    beta[-1] = 1\n",
    "    #Concatenate all Vectors with Covariance Matrix\n",
    "    test = np.c_[2*cov_data,annual_average.T,bottom.T]\n",
    "    annual_average = np.append(annual_average,np.array([0,0]))\n",
    "    final = np.row_stack((test,annual_average, bottom2))\n",
    "    #Compute weights\n",
    "    answer = np.matmul(np.linalg.inv(final),beta)\n",
    "    #Round weights\n",
    "    weights = np.around(answer,3)\n",
    "    p_weights = weights[0:-2]\n",
    "\n",
    "    #Compute NP Arrays that contain:\n",
    "    #Portfolio Weights\n",
    "    weights1 = np.array(p_weights, dtype=float)\n",
    "    #Portfolio Mean\n",
    "    p_mean = np.dot(weights1,annual_average[0:size])\n",
    "    #Portfolio Variance\n",
    "    p_variance = np.matmul(np.matmul(weights1.T,cov_data),weights1)\n",
    "    return p_mean, p_variance, p_weights"
   ],
   "metadata": {
    "collapsed": false
   }
  },
  {
   "cell_type": "code",
   "execution_count": 249,
   "outputs": [],
   "source": [
    "def Efficient_Frontier(data,max_mean):\n",
    "    means = np.linspace(0.01,max_mean,10)\n",
    "    mean_value = []\n",
    "    variance_value = []\n",
    "    for i in means:\n",
    "        #Obtain portfolio mean and variance\n",
    "        p_mean, p_variance, p_weights= min_variance_mean(data,i)\n",
    "        #Store each value in list\n",
    "        mean_value.append(p_mean)\n",
    "        variance_value.append(p_variance)\n",
    "    #Plot the Efficient Frontier\n",
    "    plt.scatter(variance_value,mean_value)\n",
    "    plt.xlabel('Portfolio Variance (%)')\n",
    "    plt.ylabel('Portfolio Return (%)')\n",
    "    plt.title(\"Efficient Frontier\")\n",
    "    plt.show()"
   ],
   "metadata": {
    "collapsed": false
   }
  },
  {
   "cell_type": "code",
   "execution_count": 251,
   "outputs": [
    {
     "name": "stdout",
     "output_type": "stream",
     "text": [
      "0.4996899074734121\n",
      "0.000636515127842687\n",
      "[ 1.426 -0.602 -0.026  0.201]\n"
     ]
    }
   ],
   "source": [
    "p_mean, p_variance, p_weights = min_variance_mean(data,0.5)\n",
    "print(p_mean)\n",
    "print(p_variance)\n",
    "print(p_weights)"
   ],
   "metadata": {
    "collapsed": false
   }
  },
  {
   "cell_type": "code",
   "execution_count": null,
   "outputs": [],
   "source": [],
   "metadata": {
    "collapsed": false
   }
  }
 ],
 "metadata": {
  "kernelspec": {
   "display_name": "Python 3 (ipykernel)",
   "language": "python",
   "name": "python3"
  },
  "language_info": {
   "codemirror_mode": {
    "name": "ipython",
    "version": 3
   },
   "file_extension": ".py",
   "mimetype": "text/x-python",
   "name": "python",
   "nbconvert_exporter": "python",
   "pygments_lexer": "ipython3",
   "version": "3.10.6"
  }
 },
 "nbformat": 4,
 "nbformat_minor": 1
}
